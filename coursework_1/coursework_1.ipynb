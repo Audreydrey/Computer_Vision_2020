{
 "cells": [
  {
   "cell_type": "markdown",
   "metadata": {},
   "source": [
    "# Coursework 1: Image filtering\n",
    "\n",
    "In this coursework we will explore some basic image filters used in computer vision. The corresponding lectures are Lectures 3 and 4 on image filtering and edge detection.\n",
    "\n",
    "What to do?\n",
    "\n",
    "* The coursework includes both coding questions and written questions. Please read both the text and code comment in this notebook to get an idea what you are supposed to implement.\n",
    "\n",
    "* First, run `jupyter-lab` or `jupyter-notebook` in the terminal to start the Jupyter notebook.\n",
    "\n",
    "* Then, complete and run the code to get the results.\n",
    "\n",
    "* Finally, please export (File | Export Notebook As...) or print (using the print function of your browser) the notebook as a pdf file, which contains your code, results and answers, and upload the pdf file onto Cate.\n",
    "\n",
    "Dependencies:\n",
    "\n",
    "* If you work on a college computer in the Computer Lab, where Ubuntu 18.04 is installed by default, you can use the following virtual environment for your work, where required Python packages are already installed.\n",
    "\n",
    "`source /vol/bitbucket/wbai/virt/computer_vision_2020/bin/activate`\n",
    "\n",
    "When you no longer need the virtual environment, you can exit it by running `deactivate`.\n",
    "\n",
    "* If you work on your own laptop using either Anaconda or plain Python, you can install new packages (such as numpy, imageio etc) running `conda install [package_name]` or `pip3 install [package_name]` in the terminal.\n",
    "\n",
    "\n"
   ]
  },
  {
   "cell_type": "code",
   "execution_count": null,
   "metadata": {},
   "outputs": [],
   "source": [
    "# Import libaries (provided)\n",
    "import imageio\n",
    "import numpy as np\n",
    "import matplotlib.pyplot as plt\n",
    "import noise\n",
    "import scipy\n",
    "import scipy.signal\n",
    "import math\n",
    "import time"
   ]
  },
  {
   "cell_type": "markdown",
   "metadata": {},
   "source": [
    "### 1. Moving average filter. (20 points)\n",
    "\n",
    "Read a specific input image and add noise to the image. Design a moving average filter of kernel size 3x3, 5x5 and 9x9 respectively. Apply the filter to the input image, show the filtering results and comment on the results.\n",
    "\n",
    "Design the kernel of the filter by yourself. Then, 2D image filtering can be performed using the function `scipy.signal.convolve2d()`."
   ]
  },
  {
   "cell_type": "code",
   "execution_count": null,
   "metadata": {},
   "outputs": [],
   "source": [
    "# Read the image (provided)\n",
    "image = imageio.imread('london.jpg')\n",
    "print('Image dimension =', image.shape)\n",
    "plt.imshow(image, cmap='gray')\n",
    "plt.gcf().set_size_inches(12, 9)"
   ]
  },
  {
   "cell_type": "code",
   "execution_count": null,
   "metadata": {},
   "outputs": [],
   "source": [
    "# Corrupt the image with Gaussian noise (provided)\n",
    "image_noisy = noise.add_noise(image, 'gaussian')\n",
    "plt.imshow(image_noisy, cmap='gray')\n",
    "plt.gcf().set_size_inches(12, 9)"
   ]
  },
  {
   "cell_type": "markdown",
   "metadata": {},
   "source": [
    "**Note: from now on, please use the noisy image as the input for the filters.**\n",
    "\n",
    "### 1.1 Filter the noisy image with a 3x3 moving average filter. (5 points)"
   ]
  },
  {
   "cell_type": "code",
   "execution_count": null,
   "metadata": {},
   "outputs": [],
   "source": [
    "# Design the filter h\n",
    "\n",
    "\n",
    "# Convolve the corrupted image with h using scipy.signal.convolve2d function\n",
    "\n",
    "\n",
    "# Print the filter (provided)\n",
    "print('Filter h:')\n",
    "print(h)\n",
    "\n",
    "# Display the filtering result (provided)\n",
    "plt.imshow(image_filtered, cmap='gray')\n",
    "plt.gcf().set_size_inches(12, 9)"
   ]
  },
  {
   "cell_type": "markdown",
   "metadata": {},
   "source": [
    "### 1.2 Filter the noisy image with a 5x5 moving average filter. (5 points)"
   ]
  },
  {
   "cell_type": "code",
   "execution_count": null,
   "metadata": {},
   "outputs": [],
   "source": [
    "# Design the filter h\n",
    "\n",
    "\n",
    "# Convolve the corrupted image with h using scipy.signal.convolve2d function\n",
    "\n",
    "\n",
    "# Print the filter (provided)\n",
    "print('Filter h:')\n",
    "print(h)\n",
    "\n",
    "# Display the filtering result (provided)\n",
    "plt.imshow(image_filtered, cmap='gray')\n",
    "plt.gcf().set_size_inches(12, 9)"
   ]
  },
  {
   "cell_type": "markdown",
   "metadata": {},
   "source": [
    "### 1.3 Filter the noisy image with a 9x9 moving average filter. (5 points)"
   ]
  },
  {
   "cell_type": "code",
   "execution_count": null,
   "metadata": {},
   "outputs": [],
   "source": [
    "# Design the filter h\n",
    "\n",
    "\n",
    "# Convolve the corrupted image with h using scipy.signal.convolve2d function\n",
    "\n",
    "\n",
    "# Print the filter (provided)\n",
    "print('Filter h:')\n",
    "print(h)\n",
    "\n",
    "# Display the filtering result (provided)\n",
    "plt.imshow(image_filtered, cmap='gray')\n",
    "plt.gcf().set_size_inches(12, 9)"
   ]
  },
  {
   "cell_type": "markdown",
   "metadata": {},
   "source": [
    "### 1.4 Comment on the filtering results. How do different kernel sizes influence the filtering results? (5 points)"
   ]
  },
  {
   "cell_type": "markdown",
   "metadata": {},
   "source": [
    "\n"
   ]
  },
  {
   "cell_type": "markdown",
   "metadata": {},
   "source": [
    "### 2. Edge detection. (45 points)\n",
    "\n",
    "Perform edge detection using Sobel filters, as well as Gaussian + Sobel filters. Display the magnitude image of the Sobel filtering result and comment."
   ]
  },
  {
   "cell_type": "markdown",
   "metadata": {},
   "source": [
    "### 2.1 Implement 3x3 Sobel filters and convolve with the noisy image. (5 points)"
   ]
  },
  {
   "cell_type": "code",
   "execution_count": null,
   "metadata": {},
   "outputs": [],
   "source": [
    "# Design the Sobel filters\n",
    "\n",
    "\n",
    "# Sobel filtering\n",
    "\n",
    "\n",
    "# Calculate the gradient magnitude\n",
    "\n",
    "\n",
    "# Print the filters (provided)\n",
    "print('h_sobel_x:')\n",
    "print(h_sobel_x)\n",
    "print('h_sobel_y:')\n",
    "print(h_sobel_y)\n",
    "\n",
    "# Display the magnitude image (provided)\n",
    "plt.imshow(sobel_mag, cmap='gray')\n",
    "plt.gcf().set_size_inches(12, 9)"
   ]
  },
  {
   "cell_type": "markdown",
   "metadata": {},
   "source": [
    "### 2.2 Design a 2D Gaussian filter. (8 points)"
   ]
  },
  {
   "cell_type": "code",
   "execution_count": null,
   "metadata": {},
   "outputs": [],
   "source": [
    "# Design the Gaussian filter\n",
    "def gaussian_filter_2d(sigma):\n",
    "    # sigma: the parameter sigma in the Gaussian kernel (unit: pixel)\n",
    "    #\n",
    "    # return: a 2D array for the Gaussian kernel\n",
    "    \n",
    "    h = ...\n",
    "    return h\n",
    "\n",
    "# Display the Gaussian filter when sigma = 3 pixel (provided)\n",
    "sigma = 3\n",
    "h = gaussian_filter_2d(sigma)\n",
    "plt.imshow(h)"
   ]
  },
  {
   "cell_type": "markdown",
   "metadata": {},
   "source": [
    "### 2.3 Perform Gaussian smoothing ($\\sigma$ = 3 pixels), followed by Sobel filtering. (5 points)"
   ]
  },
  {
   "cell_type": "code",
   "execution_count": null,
   "metadata": {},
   "outputs": [],
   "source": [
    "# Perform Gaussian smoothing before Sobel filtering\n",
    "\n",
    "\n",
    "# Sobel filtering\n",
    "\n",
    "\n",
    "# Calculate the gradient magnitude\n",
    "\n",
    "\n",
    "# Display the magnitude image (provided)\n",
    "plt.imshow(sobel_mag, cmap='gray', vmin=0, vmax=100)\n",
    "plt.gcf().set_size_inches(12, 9)"
   ]
  },
  {
   "cell_type": "markdown",
   "metadata": {},
   "source": [
    "### 2.4 Perform Gaussian smoothing ($\\sigma$ = 7 pixels), followed by Sobel filtering. Evaluate the computational time for Gaussian smoothing. (7 points)"
   ]
  },
  {
   "cell_type": "code",
   "execution_count": null,
   "metadata": {},
   "outputs": [],
   "source": [
    "# Create the Gaussian filter\n",
    "\n",
    "\n",
    "# Perform Gaussian smoothing\n",
    "\n",
    "\n",
    "# Sobel filtering\n",
    "\n",
    "\n",
    "# Calculate the gradient magnitude\n",
    "\n",
    "\n",
    "# Display the magnitude image (provided)\n",
    "plt.imshow(sobel_mag, cmap='gray', vmin=0, vmax=100)\n",
    "plt.gcf().set_size_inches(12, 9)"
   ]
  },
  {
   "cell_type": "markdown",
   "metadata": {},
   "source": [
    "### 2.5 Design 1D Gaussian filters along x-axis and y-axis respectively. (8 points)"
   ]
  },
  {
   "cell_type": "code",
   "execution_count": null,
   "metadata": {},
   "outputs": [],
   "source": [
    "# Design the Gaussian filter\n",
    "def gaussian_filter_1d(sigma):\n",
    "    # sigma: the parameter sigma in the Gaussian kernel (unit: pixel)\n",
    "    #\n",
    "    # return: a 1D array for the Gaussian kernel\n",
    "   \n",
    "    h = ...\n",
    "    return h\n",
    "\n",
    "# sigma = 7 pixel (provided)\n",
    "sigma = 7\n",
    "\n",
    "# The Gaussian filter along x-axis. Its shape is (1, sz).\n",
    "\n",
    "\n",
    "# The Gaussian filter along y-axis. Its shape is (sz, 1).\n",
    "\n",
    "\n",
    "# Display the filters (provided)\n",
    "plt.subplot(1, 2, 1)\n",
    "plt.imshow(h_x)\n",
    "plt.subplot(1, 2, 2)\n",
    "plt.imshow(h_y)"
   ]
  },
  {
   "cell_type": "markdown",
   "metadata": {},
   "source": [
    "### 2.6 Perform Gaussian smoothing (sigma = 7 pixels) using two separable filters, then apply the Sobel filters. Evaluate the computational time for separable Gaussian filtering. (7 points)"
   ]
  },
  {
   "cell_type": "code",
   "execution_count": null,
   "metadata": {},
   "outputs": [],
   "source": [
    "# Perform separable Gaussian smoothing before Sobel filtering\n",
    "\n",
    "\n",
    "# Sobel filtering\n",
    "\n",
    "\n",
    "# Calculate the gradient magnitude\n",
    "\n",
    "\n",
    "# Display the magnitude image (provided)\n",
    "plt.imshow(sobel_mag, cmap='gray', vmin=0, vmax=100)\n",
    "plt.gcf().set_size_inches(12, 9)"
   ]
  },
  {
   "cell_type": "markdown",
   "metadata": {},
   "source": [
    "### 2.7 Comment on the Gaussian + Sobel filtering results and the computational time. (5 points)"
   ]
  },
  {
   "cell_type": "markdown",
   "metadata": {},
   "source": [
    "\n"
   ]
  },
  {
   "cell_type": "markdown",
   "metadata": {},
   "source": [
    "### 3. Laplacian filter. (20 points)\n",
    "\n",
    "Perform Laplacian filtering and Laplacian of Gaussian filtering. Display the results and comment.\n",
    "\n",
    "### 3.1 Implement a 3x3 Laplacian filter. (5 points)"
   ]
  },
  {
   "cell_type": "code",
   "execution_count": null,
   "metadata": {},
   "outputs": [],
   "source": [
    "# Design the filter\n",
    "\n",
    "\n",
    "# Laplacian filtering\n",
    "\n",
    "\n",
    "# Print the filter (provided)\n",
    "print('h:')\n",
    "print(h)\n",
    "\n",
    "# Display the filtering result (provided)\n",
    "plt.imshow(lap, cmap='gray', vmin=-10, vmax=10)\n",
    "plt.gcf().set_size_inches(12, 9)"
   ]
  },
  {
   "cell_type": "markdown",
   "metadata": {},
   "source": [
    "### 3.2 Implement the Laplacian of Gaussian filter ($\\sigma$ = 3 pixel). (10 points)"
   ]
  },
  {
   "cell_type": "code",
   "execution_count": null,
   "metadata": {},
   "outputs": [],
   "source": [
    "# Design the Gaussian filters\n",
    "# The Gaussian filter along x-axis. Its shape is (1, sz).\n",
    "\n",
    "\n",
    "# The Gaussian filter along y-axis. Its shape is (sz, 1).\n",
    "\n",
    "\n",
    "# Gaussian smoothing\n",
    "\n",
    "\n",
    "# Design the Laplacian filter\n",
    "\n",
    "\n",
    "# Laplacian filtering\n",
    "\n",
    "\n",
    "# Display the filtering result (provided)\n",
    "plt.imshow(lap, cmap='gray', vmin=-10, vmax=10)\n",
    "plt.gcf().set_size_inches(12, 9)"
   ]
  },
  {
   "cell_type": "markdown",
   "metadata": {},
   "source": [
    "### 3.3 Comments on the filtering results. (5 points)"
   ]
  },
  {
   "cell_type": "markdown",
   "metadata": {},
   "source": [
    "\n"
   ]
  },
  {
   "cell_type": "markdown",
   "metadata": {},
   "source": [
    "### 4. Exploration: Implement the 3x3 moving average filter using Pytorch. (15 points)\n",
    "\n",
    "[Pytorch](https://pytorch.org/) is a machine learning framework that supports filtering and convolution.\n",
    "\n",
    "The [Conv2D](https://pytorch.org/docs/stable/nn.html#conv2d) operator takes an input array of dimension NxC1xXxY, applies the filter and outputs an array of dimension NxC2xXxY. Here, since we only have one image with one colour channel, we will set N=1, C1=1 and C2=1. You can read the documentation of Conv2D for more detail."
   ]
  },
  {
   "cell_type": "code",
   "execution_count": null,
   "metadata": {},
   "outputs": [],
   "source": [
    "# Import libaries (provided)\n",
    "import torch"
   ]
  },
  {
   "cell_type": "markdown",
   "metadata": {},
   "source": [
    "### 4.1 Expand the dimension of the noisy image into 1x1xXxY and convert it to a Pytorch tensor. (5 points)"
   ]
  },
  {
   "cell_type": "code",
   "execution_count": null,
   "metadata": {},
   "outputs": [],
   "source": [
    "# Expand the dimension of the numpy array\n",
    "\n",
    "\n",
    "# Convert to a Pytorch tensor using torch.from_numpy\n"
   ]
  },
  {
   "cell_type": "markdown",
   "metadata": {},
   "source": [
    "### 4.2 Create a Pytorch Conv2D filter, set its kernel to be a 3x3 moving averaging filter. (5 points)"
   ]
  },
  {
   "cell_type": "code",
   "execution_count": null,
   "metadata": {},
   "outputs": [],
   "source": [
    "# Create the Conv2D filter (provided)\n",
    "conv = nn.Conv2d(in_channels=1, out_channels=1, kernel_size=3, padding=1, bias=False)\n",
    "\n",
    "# Set the kernel weight\n"
   ]
  },
  {
   "cell_type": "markdown",
   "metadata": {},
   "source": [
    "### 4.3 Apply the filter to the noisy image tensor and display the output image. (5 points)"
   ]
  },
  {
   "cell_type": "code",
   "execution_count": null,
   "metadata": {},
   "outputs": [],
   "source": [
    "# Filtering\n",
    "\n",
    "\n",
    "# Display the filtering result (provided)\n",
    "plt.imshow(image_filtered, cmap='gray')\n",
    "plt.gcf().set_size_inches(12, 9)"
   ]
  },
  {
   "cell_type": "markdown",
   "metadata": {},
   "source": [
    "### 5. Survey: How many hours does it take you to complete the coursework?"
   ]
  },
  {
   "cell_type": "code",
   "execution_count": null,
   "metadata": {},
   "outputs": [],
   "source": []
  }
 ],
 "metadata": {
  "kernelspec": {
   "display_name": "Python 3",
   "language": "python",
   "name": "python3"
  },
  "language_info": {
   "codemirror_mode": {
    "name": "ipython",
    "version": 3
   },
   "file_extension": ".py",
   "mimetype": "text/x-python",
   "name": "python",
   "nbconvert_exporter": "python",
   "pygments_lexer": "ipython3",
   "version": "3.6.9"
  }
 },
 "nbformat": 4,
 "nbformat_minor": 4
}
